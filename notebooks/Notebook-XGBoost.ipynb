{
 "cells": [
  {
   "cell_type": "code",
   "execution_count": 1,
   "outputs": [],
   "source": [
    "import pandas as pd\n",
    "import xgboost as xg\n",
    "from sklearn.model_selection import train_test_split\n",
    "\n",
    "data = pd.read_csv(\"../resources/dataset.csv\")\n",
    "\n",
    "x = data[['energy', 'valence', 'acousticness', 'liveness']]\n",
    "y = data[['danceability']]"
   ],
   "metadata": {
    "collapsed": false,
    "ExecuteTime": {
     "start_time": "2023-04-21T15:09:02.705496Z",
     "end_time": "2023-04-21T15:09:04.760575Z"
    }
   }
  },
  {
   "cell_type": "code",
   "execution_count": 2,
   "outputs": [],
   "source": [
    "train_X, test_X, train_y, test_y = train_test_split(x, y, test_size = 0.25, random_state = 123)\n",
    "\n",
    "train_dmatrix = xg.DMatrix(data = train_X, label = train_y)\n",
    "test_dmatrix = xg.DMatrix(data = test_X, label = test_y)\n",
    "\n",
    "xgb_r = xg.XGBRegressor()\n",
    "\n",
    "xgb_r.fit(train_X, train_y)\n",
    "\n",
    "predictedY = xgb_r.predict(test_X)"
   ],
   "metadata": {
    "collapsed": false,
    "ExecuteTime": {
     "start_time": "2023-04-21T15:09:04.768568Z",
     "end_time": "2023-04-21T15:09:07.298258Z"
    }
   }
  },
  {
   "cell_type": "code",
   "execution_count": 3,
   "outputs": [
    {
     "data": {
      "text/plain": "array([0.52368253, 0.6851805 , 0.52025735, ..., 0.53114164, 0.4969752 ,\n       0.61958045], dtype=float32)"
     },
     "execution_count": 3,
     "metadata": {},
     "output_type": "execute_result"
    }
   ],
   "source": [
    "predictedY"
   ],
   "metadata": {
    "collapsed": false,
    "ExecuteTime": {
     "start_time": "2023-04-21T15:09:07.309175Z",
     "end_time": "2023-04-21T15:09:07.316401Z"
    }
   }
  },
  {
   "cell_type": "code",
   "execution_count": 4,
   "outputs": [],
   "source": [
    "xgb_r.save_model('../resources/xgb.json')"
   ],
   "metadata": {
    "collapsed": false,
    "ExecuteTime": {
     "start_time": "2023-04-21T15:09:07.314706Z",
     "end_time": "2023-04-21T15:09:07.347184Z"
    }
   }
  }
 ],
 "metadata": {
  "kernelspec": {
   "display_name": "Python 3 (ipykernel)",
   "language": "python",
   "name": "python3"
  },
  "language_info": {
   "codemirror_mode": {
    "name": "ipython",
    "version": 3
   },
   "file_extension": ".py",
   "mimetype": "text/x-python",
   "name": "python",
   "nbconvert_exporter": "python",
   "pygments_lexer": "ipython3",
   "version": "3.9.16"
  }
 },
 "nbformat": 4,
 "nbformat_minor": 5
}
