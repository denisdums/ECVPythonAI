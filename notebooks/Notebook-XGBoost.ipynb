{
 "cells": [
  {
   "cell_type": "code",
   "execution_count": 1,
   "outputs": [],
   "source": [
    "import pandas as pd\n",
    "import xgboost as xg\n",
    "from sklearn.model_selection import train_test_split\n",
    "\n",
    "data = pd.read_csv(\"../resources/dataset.csv\")\n",
    "\n",
    "x = data[['energy', 'valence', 'acousticness', 'liveness']]\n",
    "y = data[['danceability']]"
   ],
   "metadata": {
    "collapsed": false,
    "ExecuteTime": {
     "start_time": "2023-04-21T09:35:18.091236Z",
     "end_time": "2023-04-21T09:35:19.690774Z"
    }
   }
  },
  {
   "cell_type": "code",
   "execution_count": 5,
   "outputs": [],
   "source": [
    "train_X, test_X, train_y, test_y = train_test_split(x, y, test_size = 0.25, random_state = 123)\n",
    "\n",
    "train_dmatrix = xg.DMatrix(data = train_X, label = train_y)\n",
    "test_dmatrix = xg.DMatrix(data = test_X, label = test_y)\n",
    "\n",
    "xgb_r = xg.XGBRegressor()\n",
    "\n",
    "xgb_r.fit(train_X, train_y)\n",
    "\n",
    "predictedY = xgb_r.predict(test_X)"
   ],
   "metadata": {
    "collapsed": false,
    "ExecuteTime": {
     "start_time": "2023-04-21T09:43:51.711339Z",
     "end_time": "2023-04-21T09:43:53.483292Z"
    }
   }
  },
  {
   "cell_type": "code",
   "execution_count": 6,
   "outputs": [
    {
     "data": {
      "text/plain": "       energy  valence  acousticness  liveness\n76250   0.456    0.362       0.85800    0.0719\n36340   0.861    0.919       0.09630    0.1300\n19932   0.480    0.304       0.74600    0.1130\n65784   0.560    0.592       0.87800    0.3380\n49937   0.832    0.201       0.00782    0.2160\n...       ...      ...           ...       ...\n32005   0.573    0.284       0.08880    0.0834\n85431   0.802    0.473       0.01160    0.0713\n11878   0.161    0.668       0.99600    0.1070\n55734   0.101    0.122       0.68200    0.0887\n69396   0.410    0.457       0.39700    0.3290\n\n[28500 rows x 4 columns]",
      "text/html": "<div>\n<style scoped>\n    .dataframe tbody tr th:only-of-type {\n        vertical-align: middle;\n    }\n\n    .dataframe tbody tr th {\n        vertical-align: top;\n    }\n\n    .dataframe thead th {\n        text-align: right;\n    }\n</style>\n<table border=\"1\" class=\"dataframe\">\n  <thead>\n    <tr style=\"text-align: right;\">\n      <th></th>\n      <th>energy</th>\n      <th>valence</th>\n      <th>acousticness</th>\n      <th>liveness</th>\n    </tr>\n  </thead>\n  <tbody>\n    <tr>\n      <th>76250</th>\n      <td>0.456</td>\n      <td>0.362</td>\n      <td>0.85800</td>\n      <td>0.0719</td>\n    </tr>\n    <tr>\n      <th>36340</th>\n      <td>0.861</td>\n      <td>0.919</td>\n      <td>0.09630</td>\n      <td>0.1300</td>\n    </tr>\n    <tr>\n      <th>19932</th>\n      <td>0.480</td>\n      <td>0.304</td>\n      <td>0.74600</td>\n      <td>0.1130</td>\n    </tr>\n    <tr>\n      <th>65784</th>\n      <td>0.560</td>\n      <td>0.592</td>\n      <td>0.87800</td>\n      <td>0.3380</td>\n    </tr>\n    <tr>\n      <th>49937</th>\n      <td>0.832</td>\n      <td>0.201</td>\n      <td>0.00782</td>\n      <td>0.2160</td>\n    </tr>\n    <tr>\n      <th>...</th>\n      <td>...</td>\n      <td>...</td>\n      <td>...</td>\n      <td>...</td>\n    </tr>\n    <tr>\n      <th>32005</th>\n      <td>0.573</td>\n      <td>0.284</td>\n      <td>0.08880</td>\n      <td>0.0834</td>\n    </tr>\n    <tr>\n      <th>85431</th>\n      <td>0.802</td>\n      <td>0.473</td>\n      <td>0.01160</td>\n      <td>0.0713</td>\n    </tr>\n    <tr>\n      <th>11878</th>\n      <td>0.161</td>\n      <td>0.668</td>\n      <td>0.99600</td>\n      <td>0.1070</td>\n    </tr>\n    <tr>\n      <th>55734</th>\n      <td>0.101</td>\n      <td>0.122</td>\n      <td>0.68200</td>\n      <td>0.0887</td>\n    </tr>\n    <tr>\n      <th>69396</th>\n      <td>0.410</td>\n      <td>0.457</td>\n      <td>0.39700</td>\n      <td>0.3290</td>\n    </tr>\n  </tbody>\n</table>\n<p>28500 rows × 4 columns</p>\n</div>"
     },
     "execution_count": 6,
     "metadata": {},
     "output_type": "execute_result"
    }
   ],
   "source": [
    "test_X"
   ],
   "metadata": {
    "collapsed": false,
    "ExecuteTime": {
     "start_time": "2023-04-21T09:43:56.379147Z",
     "end_time": "2023-04-21T09:43:56.388332Z"
    }
   }
  },
  {
   "cell_type": "code",
   "execution_count": 4,
   "outputs": [],
   "source": [
    "xgb_r.save_model('../resources/xgb.json')"
   ],
   "metadata": {
    "collapsed": false,
    "ExecuteTime": {
     "start_time": "2023-04-21T09:35:21.516473Z",
     "end_time": "2023-04-21T09:35:21.541823Z"
    }
   }
  }
 ],
 "metadata": {
  "kernelspec": {
   "display_name": "Python 3 (ipykernel)",
   "language": "python",
   "name": "python3"
  },
  "language_info": {
   "codemirror_mode": {
    "name": "ipython",
    "version": 3
   },
   "file_extension": ".py",
   "mimetype": "text/x-python",
   "name": "python",
   "nbconvert_exporter": "python",
   "pygments_lexer": "ipython3",
   "version": "3.9.16"
  }
 },
 "nbformat": 4,
 "nbformat_minor": 5
}
